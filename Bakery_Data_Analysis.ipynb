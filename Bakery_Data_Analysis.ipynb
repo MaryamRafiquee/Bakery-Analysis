{
 "cells": [
  {
   "cell_type": "code",
   "execution_count": 1,
   "id": "83fa7f79",
   "metadata": {},
   "outputs": [],
   "source": [
    "import pandas as pd\n",
    "import matplotlib.pyplot as plt"
   ]
  },
  {
   "cell_type": "code",
   "execution_count": 2,
   "id": "bec1dbbb",
   "metadata": {},
   "outputs": [],
   "source": [
    "df = pd.read_csv('./Bakery.csv')"
   ]
  },
  {
   "cell_type": "code",
   "execution_count": 9,
   "id": "6fb6270c",
   "metadata": {},
   "outputs": [
    {
     "data": {
      "text/html": [
       "<div>\n",
       "<style scoped>\n",
       "    .dataframe tbody tr th:only-of-type {\n",
       "        vertical-align: middle;\n",
       "    }\n",
       "\n",
       "    .dataframe tbody tr th {\n",
       "        vertical-align: top;\n",
       "    }\n",
       "\n",
       "    .dataframe thead th {\n",
       "        text-align: right;\n",
       "    }\n",
       "</style>\n",
       "<table border=\"1\" class=\"dataframe\">\n",
       "  <thead>\n",
       "    <tr style=\"text-align: right;\">\n",
       "      <th></th>\n",
       "      <th>TransactionNo</th>\n",
       "      <th>Items</th>\n",
       "      <th>DateTime</th>\n",
       "      <th>Daypart</th>\n",
       "      <th>DayType</th>\n",
       "    </tr>\n",
       "  </thead>\n",
       "  <tbody>\n",
       "    <tr>\n",
       "      <th>0</th>\n",
       "      <td>1</td>\n",
       "      <td>Bread</td>\n",
       "      <td>2016-10-30 09:58:11</td>\n",
       "      <td>Morning</td>\n",
       "      <td>Weekend</td>\n",
       "    </tr>\n",
       "    <tr>\n",
       "      <th>1</th>\n",
       "      <td>2</td>\n",
       "      <td>Scandinavian</td>\n",
       "      <td>2016-10-30 10:05:34</td>\n",
       "      <td>Morning</td>\n",
       "      <td>Weekend</td>\n",
       "    </tr>\n",
       "    <tr>\n",
       "      <th>3</th>\n",
       "      <td>3</td>\n",
       "      <td>Hot chocolate</td>\n",
       "      <td>2016-10-30 10:07:57</td>\n",
       "      <td>Morning</td>\n",
       "      <td>Weekend</td>\n",
       "    </tr>\n",
       "    <tr>\n",
       "      <th>4</th>\n",
       "      <td>3</td>\n",
       "      <td>Jam</td>\n",
       "      <td>2016-10-30 10:07:57</td>\n",
       "      <td>Morning</td>\n",
       "      <td>Weekend</td>\n",
       "    </tr>\n",
       "    <tr>\n",
       "      <th>5</th>\n",
       "      <td>3</td>\n",
       "      <td>Cookies</td>\n",
       "      <td>2016-10-30 10:07:57</td>\n",
       "      <td>Morning</td>\n",
       "      <td>Weekend</td>\n",
       "    </tr>\n",
       "  </tbody>\n",
       "</table>\n",
       "</div>"
      ],
      "text/plain": [
       "   TransactionNo          Items             DateTime  Daypart  DayType\n",
       "0              1          Bread  2016-10-30 09:58:11  Morning  Weekend\n",
       "1              2   Scandinavian  2016-10-30 10:05:34  Morning  Weekend\n",
       "3              3  Hot chocolate  2016-10-30 10:07:57  Morning  Weekend\n",
       "4              3            Jam  2016-10-30 10:07:57  Morning  Weekend\n",
       "5              3        Cookies  2016-10-30 10:07:57  Morning  Weekend"
      ]
     },
     "execution_count": 9,
     "metadata": {},
     "output_type": "execute_result"
    }
   ],
   "source": [
    "df.head()"
   ]
  },
  {
   "cell_type": "code",
   "execution_count": 10,
   "id": "ac1804b9",
   "metadata": {},
   "outputs": [
    {
     "name": "stdout",
     "output_type": "stream",
     "text": [
      "<class 'pandas.core.frame.DataFrame'>\n",
      "Int64Index: 18887 entries, 0 to 20506\n",
      "Data columns (total 5 columns):\n",
      " #   Column         Non-Null Count  Dtype \n",
      "---  ------         --------------  ----- \n",
      " 0   TransactionNo  18887 non-null  int64 \n",
      " 1   Items          18887 non-null  object\n",
      " 2   DateTime       18887 non-null  object\n",
      " 3   Daypart        18887 non-null  object\n",
      " 4   DayType        18887 non-null  object\n",
      "dtypes: int64(1), object(4)\n",
      "memory usage: 885.3+ KB\n"
     ]
    }
   ],
   "source": [
    "df.info()"
   ]
  },
  {
   "cell_type": "code",
   "execution_count": 11,
   "id": "5a671a4b",
   "metadata": {},
   "outputs": [
    {
     "data": {
      "text/html": [
       "<div>\n",
       "<style scoped>\n",
       "    .dataframe tbody tr th:only-of-type {\n",
       "        vertical-align: middle;\n",
       "    }\n",
       "\n",
       "    .dataframe tbody tr th {\n",
       "        vertical-align: top;\n",
       "    }\n",
       "\n",
       "    .dataframe thead th {\n",
       "        text-align: right;\n",
       "    }\n",
       "</style>\n",
       "<table border=\"1\" class=\"dataframe\">\n",
       "  <thead>\n",
       "    <tr style=\"text-align: right;\">\n",
       "      <th></th>\n",
       "      <th>TransactionNo</th>\n",
       "    </tr>\n",
       "  </thead>\n",
       "  <tbody>\n",
       "    <tr>\n",
       "      <th>count</th>\n",
       "      <td>18887.000000</td>\n",
       "    </tr>\n",
       "    <tr>\n",
       "      <th>mean</th>\n",
       "      <td>4951.051517</td>\n",
       "    </tr>\n",
       "    <tr>\n",
       "      <th>std</th>\n",
       "      <td>2811.619306</td>\n",
       "    </tr>\n",
       "    <tr>\n",
       "      <th>min</th>\n",
       "      <td>1.000000</td>\n",
       "    </tr>\n",
       "    <tr>\n",
       "      <th>25%</th>\n",
       "      <td>2496.500000</td>\n",
       "    </tr>\n",
       "    <tr>\n",
       "      <th>50%</th>\n",
       "      <td>5082.000000</td>\n",
       "    </tr>\n",
       "    <tr>\n",
       "      <th>75%</th>\n",
       "      <td>7378.500000</td>\n",
       "    </tr>\n",
       "    <tr>\n",
       "      <th>max</th>\n",
       "      <td>9684.000000</td>\n",
       "    </tr>\n",
       "  </tbody>\n",
       "</table>\n",
       "</div>"
      ],
      "text/plain": [
       "       TransactionNo\n",
       "count   18887.000000\n",
       "mean     4951.051517\n",
       "std      2811.619306\n",
       "min         1.000000\n",
       "25%      2496.500000\n",
       "50%      5082.000000\n",
       "75%      7378.500000\n",
       "max      9684.000000"
      ]
     },
     "execution_count": 11,
     "metadata": {},
     "output_type": "execute_result"
    }
   ],
   "source": [
    "df.describe()"
   ]
  },
  {
   "cell_type": "code",
   "execution_count": 12,
   "id": "aeccd826",
   "metadata": {},
   "outputs": [
    {
     "data": {
      "text/plain": [
       "0"
      ]
     },
     "execution_count": 12,
     "metadata": {},
     "output_type": "execute_result"
    }
   ],
   "source": [
    "df.duplicated().sum()"
   ]
  },
  {
   "cell_type": "code",
   "execution_count": 13,
   "id": "beb6688b",
   "metadata": {},
   "outputs": [],
   "source": [
    "df.drop_duplicates(inplace=True)"
   ]
  },
  {
   "cell_type": "code",
   "execution_count": 14,
   "id": "a09ecece",
   "metadata": {},
   "outputs": [
    {
     "data": {
      "text/plain": [
       "0"
      ]
     },
     "execution_count": 14,
     "metadata": {},
     "output_type": "execute_result"
    }
   ],
   "source": [
    "df.duplicated().sum()"
   ]
  },
  {
   "cell_type": "code",
   "execution_count": 15,
   "id": "0710a703",
   "metadata": {},
   "outputs": [
    {
     "name": "stdout",
     "output_type": "stream",
     "text": [
      "             index  Items\n",
      "0           Coffee   4528\n",
      "1            Bread   3097\n",
      "2              Tea   1350\n",
      "3             Cake    983\n",
      "4           Pastry    815\n",
      "..             ...    ...\n",
      "89           Bacon      1\n",
      "90    Gift voucher      1\n",
      "91  Olum & polenta      1\n",
      "92        Raw bars      1\n",
      "93         Polenta      1\n",
      "\n",
      "[94 rows x 2 columns]\n"
     ]
    }
   ],
   "source": [
    "item_count = df['Items'].value_counts().reset_index()\n",
    "print(item_count)"
   ]
  },
  {
   "cell_type": "code",
   "execution_count": 16,
   "id": "a390df1e",
   "metadata": {},
   "outputs": [
    {
     "name": "stdout",
     "output_type": "stream",
     "text": [
      "         item_list  Frequency\n",
      "0           Coffee       4528\n",
      "1            Bread       3097\n",
      "2              Tea       1350\n",
      "3             Cake        983\n",
      "4           Pastry        815\n",
      "..             ...        ...\n",
      "89           Bacon          1\n",
      "90    Gift voucher          1\n",
      "91  Olum & polenta          1\n",
      "92        Raw bars          1\n",
      "93         Polenta          1\n",
      "\n",
      "[94 rows x 2 columns]\n"
     ]
    }
   ],
   "source": [
    "rename_column = item_count.rename(columns = {'index':'item_list','Items':'Frequency'})\n",
    "print(rename_column)"
   ]
  },
  {
   "cell_type": "code",
   "execution_count": 25,
   "id": "3f54dffb",
   "metadata": {},
   "outputs": [
    {
     "data": {
      "image/png": "[encoded data removed]",
      "text/plain": [
       "<Figure size 720x3600 with 1 Axes>"
      ]
     },
     "metadata": {
      "needs_background": "light"
     },
     "output_type": "display_data"
    }
   ],
   "source": [
    "items = rename_column['item_list']\n",
    "frequency = rename_column['Frequency']\n",
    "\n",
    "fig, ax = plt.subplots(figsize = (10,50))\n",
    "ax.barh(items,frequency)\n",
    "\n",
    "ax.set_title('Item frequency Analysis')\n",
    "ax.set_xlabel('frequency')\n",
    "ax.set_ylabel('items')\n",
    "\n",
    "plt.show()\n",
    "\n"
   ]
  },
  {
   "cell_type": "code",
   "execution_count": 18,
   "id": "0d7233fc",
   "metadata": {},
   "outputs": [
    {
     "name": "stdout",
     "output_type": "stream",
     "text": [
      "       index  Daypart\n",
      "0  Afternoon    10687\n",
      "1    Morning     7697\n",
      "2    Evening      490\n",
      "3      Night       13\n"
     ]
    }
   ],
   "source": [
    "daypart_frequency = df['Daypart'].value_counts().reset_index()\n",
    "print(daypart_frequency)"
   ]
  },
  {
   "cell_type": "code",
   "execution_count": 19,
   "id": "77cf5ffc",
   "metadata": {},
   "outputs": [
    {
     "name": "stdout",
     "output_type": "stream",
     "text": [
      "     Daypart  No of transaction\n",
      "0  Afternoon              10687\n",
      "1    Morning               7697\n",
      "2    Evening                490\n",
      "3      Night                 13\n"
     ]
    }
   ],
   "source": [
    "rename_daypart = daypart_frequency.rename(columns = {'index':'Daypart','Daypart':'No of transaction'})\n",
    "print(rename_daypart)"
   ]
  },
  {
   "cell_type": "code",
   "execution_count": 20,
   "id": "f4813f44",
   "metadata": {},
   "outputs": [
    {
     "data": {
      "image/png": "[encoded data removed]",
      "text/plain": [
       "<Figure size 576x432 with 1 Axes>"
      ]
     },
     "metadata": {
      "needs_background": "light"
     },
     "output_type": "display_data"
    }
   ],
   "source": [
    "day_part = rename_daypart['Daypart']\n",
    "count = rename_daypart['No of transaction']\n",
    "\n",
    "fig, ax = plt.subplots(figsize = (8,6))\n",
    "ax.barh(day_part,count)\n",
    "\n",
    "ax.set_title('Daypart Analysis')\n",
    "ax.set_xlabel('No of transaction')\n",
    "ax.set_ylabel('Day part')\n",
    "\n",
    "plt.show()"
   ]
  },
  {
   "cell_type": "code",
   "execution_count": 21,
   "id": "784c0958",
   "metadata": {},
   "outputs": [
    {
     "data": {
      "text/html": [
       "<div>\n",
       "<style scoped>\n",
       "    .dataframe tbody tr th:only-of-type {\n",
       "        vertical-align: middle;\n",
       "    }\n",
       "\n",
       "    .dataframe tbody tr th {\n",
       "        vertical-align: top;\n",
       "    }\n",
       "\n",
       "    .dataframe thead th {\n",
       "        text-align: right;\n",
       "    }\n",
       "</style>\n",
       "<table border=\"1\" class=\"dataframe\">\n",
       "  <thead>\n",
       "    <tr style=\"text-align: right;\">\n",
       "      <th></th>\n",
       "      <th>TransactionNo</th>\n",
       "      <th>Items</th>\n",
       "      <th>DateTime</th>\n",
       "      <th>Daypart</th>\n",
       "      <th>DayType</th>\n",
       "      <th>Date</th>\n",
       "      <th>Time</th>\n",
       "    </tr>\n",
       "  </thead>\n",
       "  <tbody>\n",
       "    <tr>\n",
       "      <th>0</th>\n",
       "      <td>1</td>\n",
       "      <td>Bread</td>\n",
       "      <td>2016-10-30 09:58:11</td>\n",
       "      <td>Morning</td>\n",
       "      <td>Weekend</td>\n",
       "      <td>2016-10-30</td>\n",
       "      <td>09:58:11</td>\n",
       "    </tr>\n",
       "    <tr>\n",
       "      <th>1</th>\n",
       "      <td>2</td>\n",
       "      <td>Scandinavian</td>\n",
       "      <td>2016-10-30 10:05:34</td>\n",
       "      <td>Morning</td>\n",
       "      <td>Weekend</td>\n",
       "      <td>2016-10-30</td>\n",
       "      <td>10:05:34</td>\n",
       "    </tr>\n",
       "    <tr>\n",
       "      <th>3</th>\n",
       "      <td>3</td>\n",
       "      <td>Hot chocolate</td>\n",
       "      <td>2016-10-30 10:07:57</td>\n",
       "      <td>Morning</td>\n",
       "      <td>Weekend</td>\n",
       "      <td>2016-10-30</td>\n",
       "      <td>10:07:57</td>\n",
       "    </tr>\n",
       "    <tr>\n",
       "      <th>4</th>\n",
       "      <td>3</td>\n",
       "      <td>Jam</td>\n",
       "      <td>2016-10-30 10:07:57</td>\n",
       "      <td>Morning</td>\n",
       "      <td>Weekend</td>\n",
       "      <td>2016-10-30</td>\n",
       "      <td>10:07:57</td>\n",
       "    </tr>\n",
       "    <tr>\n",
       "      <th>5</th>\n",
       "      <td>3</td>\n",
       "      <td>Cookies</td>\n",
       "      <td>2016-10-30 10:07:57</td>\n",
       "      <td>Morning</td>\n",
       "      <td>Weekend</td>\n",
       "      <td>2016-10-30</td>\n",
       "      <td>10:07:57</td>\n",
       "    </tr>\n",
       "    <tr>\n",
       "      <th>...</th>\n",
       "      <td>...</td>\n",
       "      <td>...</td>\n",
       "      <td>...</td>\n",
       "      <td>...</td>\n",
       "      <td>...</td>\n",
       "      <td>...</td>\n",
       "      <td>...</td>\n",
       "    </tr>\n",
       "    <tr>\n",
       "      <th>20502</th>\n",
       "      <td>9682</td>\n",
       "      <td>Coffee</td>\n",
       "      <td>2017-09-04 14:32:58</td>\n",
       "      <td>Afternoon</td>\n",
       "      <td>Weekend</td>\n",
       "      <td>2017-09-04</td>\n",
       "      <td>14:32:58</td>\n",
       "    </tr>\n",
       "    <tr>\n",
       "      <th>20503</th>\n",
       "      <td>9682</td>\n",
       "      <td>Tea</td>\n",
       "      <td>2017-09-04 14:32:58</td>\n",
       "      <td>Afternoon</td>\n",
       "      <td>Weekend</td>\n",
       "      <td>2017-09-04</td>\n",
       "      <td>14:32:58</td>\n",
       "    </tr>\n",
       "    <tr>\n",
       "      <th>20504</th>\n",
       "      <td>9683</td>\n",
       "      <td>Coffee</td>\n",
       "      <td>2017-09-04 14:57:06</td>\n",
       "      <td>Afternoon</td>\n",
       "      <td>Weekend</td>\n",
       "      <td>2017-09-04</td>\n",
       "      <td>14:57:06</td>\n",
       "    </tr>\n",
       "    <tr>\n",
       "      <th>20505</th>\n",
       "      <td>9683</td>\n",
       "      <td>Pastry</td>\n",
       "      <td>2017-09-04 14:57:06</td>\n",
       "      <td>Afternoon</td>\n",
       "      <td>Weekend</td>\n",
       "      <td>2017-09-04</td>\n",
       "      <td>14:57:06</td>\n",
       "    </tr>\n",
       "    <tr>\n",
       "      <th>20506</th>\n",
       "      <td>9684</td>\n",
       "      <td>Smoothies</td>\n",
       "      <td>2017-09-04 15:04:24</td>\n",
       "      <td>Afternoon</td>\n",
       "      <td>Weekend</td>\n",
       "      <td>2017-09-04</td>\n",
       "      <td>15:04:24</td>\n",
       "    </tr>\n",
       "  </tbody>\n",
       "</table>\n",
       "<p>18887 rows × 7 columns</p>\n",
       "</div>"
      ],
      "text/plain": [
       "       TransactionNo          Items            DateTime    Daypart  DayType  \\\n",
       "0                  1          Bread 2016-10-30 09:58:11    Morning  Weekend   \n",
       "1                  2   Scandinavian 2016-10-30 10:05:34    Morning  Weekend   \n",
       "3                  3  Hot chocolate 2016-10-30 10:07:57    Morning  Weekend   \n",
       "4                  3            Jam 2016-10-30 10:07:57    Morning  Weekend   \n",
       "5                  3        Cookies 2016-10-30 10:07:57    Morning  Weekend   \n",
       "...              ...            ...                 ...        ...      ...   \n",
       "20502           9682         Coffee 2017-09-04 14:32:58  Afternoon  Weekend   \n",
       "20503           9682            Tea 2017-09-04 14:32:58  Afternoon  Weekend   \n",
       "20504           9683         Coffee 2017-09-04 14:57:06  Afternoon  Weekend   \n",
       "20505           9683         Pastry 2017-09-04 14:57:06  Afternoon  Weekend   \n",
       "20506           9684      Smoothies 2017-09-04 15:04:24  Afternoon  Weekend   \n",
       "\n",
       "             Date      Time  \n",
       "0      2016-10-30  09:58:11  \n",
       "1      2016-10-30  10:05:34  \n",
       "3      2016-10-30  10:07:57  \n",
       "4      2016-10-30  10:07:57  \n",
       "5      2016-10-30  10:07:57  \n",
       "...           ...       ...  \n",
       "20502  2017-09-04  14:32:58  \n",
       "20503  2017-09-04  14:32:58  \n",
       "20504  2017-09-04  14:57:06  \n",
       "20505  2017-09-04  14:57:06  \n",
       "20506  2017-09-04  15:04:24  \n",
       "\n",
       "[18887 rows x 7 columns]"
      ]
     },
     "execution_count": 21,
     "metadata": {},
     "output_type": "execute_result"
    }
   ],
   "source": [
    "df['DateTime'] = pd.to_datetime(df['DateTime'])\n",
    "    \n",
    "df['Date'] = df['DateTime'].dt.date\n",
    "\n",
    "df['Time'] = df['DateTime'].dt.time\n",
    "df"
   ]
  },
  {
   "cell_type": "code",
   "execution_count": 27,
   "id": "01eefe13",
   "metadata": {},
   "outputs": [
    {
     "name": "stdout",
     "output_type": "stream",
     "text": [
      "Total number of transaction: 15064\n"
     ]
    }
   ],
   "source": [
    "start_date = '2016-10-30'\n",
    "end_date = '2017-09-04'\n",
    "\n",
    "filtered_df = df[(df['DateTime'] >= start_date) & (df['DateTime'] <= end_date)]\n",
    "\n",
    "#transaction_count = filtered_df.shape[0]\n",
    "transaction_count = len(filtered_df)\n",
    "\n",
    "print('Total number of transaction:',transaction_count)"
   ]
  },
  {
   "cell_type": "code",
   "execution_count": 26,
   "id": "ec4393da",
   "metadata": {},
   "outputs": [
    {
     "name": "stdout",
     "output_type": "stream",
     "text": [
      "Total number of transactions: 15131\n"
     ]
    }
   ],
   "source": [
    "import datetime\n",
    "\n",
    "start_date = datetime.datetime.strptime('2016-10-30 09:58:11','%Y-%m-%d %H:%M:%S')\n",
    "end_date = datetime.datetime.strptime('2017-09-04 15:04:24','%Y-%m-%d %H:%M:%S')\n",
    "\n",
    "filtered_df = df[(df['DateTime'] >= start_date) & (df['DateTime'] <= end_date)]\n",
    "transaction_count = len(filtered_df)\n",
    "\n",
    "print('Total number of transactions:',transaction_count)"
   ]
  },
  {
   "cell_type": "code",
   "execution_count": 28,
   "id": "ea3415dc",
   "metadata": {},
   "outputs": [
    {
     "data": {
      "text/html": [
       "<div>\n",
       "<style scoped>\n",
       "    .dataframe tbody tr th:only-of-type {\n",
       "        vertical-align: middle;\n",
       "    }\n",
       "\n",
       "    .dataframe tbody tr th {\n",
       "        vertical-align: top;\n",
       "    }\n",
       "\n",
       "    .dataframe thead th {\n",
       "        text-align: right;\n",
       "    }\n",
       "</style>\n",
       "<table border=\"1\" class=\"dataframe\">\n",
       "  <thead>\n",
       "    <tr style=\"text-align: right;\">\n",
       "      <th></th>\n",
       "      <th>TransactionNo</th>\n",
       "      <th>Items</th>\n",
       "      <th>DateTime</th>\n",
       "      <th>Daypart</th>\n",
       "      <th>DayType</th>\n",
       "      <th>Date</th>\n",
       "      <th>Time</th>\n",
       "      <th>CumulativeCount</th>\n",
       "    </tr>\n",
       "  </thead>\n",
       "  <tbody>\n",
       "    <tr>\n",
       "      <th>401</th>\n",
       "      <td>195</td>\n",
       "      <td>Scandinavian</td>\n",
       "      <td>2016-01-11 11:06:09</td>\n",
       "      <td>Morning</td>\n",
       "      <td>Weekday</td>\n",
       "      <td>2016-01-11</td>\n",
       "      <td>11:06:09</td>\n",
       "      <td>195</td>\n",
       "    </tr>\n",
       "    <tr>\n",
       "      <th>437</th>\n",
       "      <td>214</td>\n",
       "      <td>Bread</td>\n",
       "      <td>2016-01-11 12:26:43</td>\n",
       "      <td>Afternoon</td>\n",
       "      <td>Weekday</td>\n",
       "      <td>2016-01-11</td>\n",
       "      <td>12:26:43</td>\n",
       "      <td>409</td>\n",
       "    </tr>\n",
       "    <tr>\n",
       "      <th>438</th>\n",
       "      <td>214</td>\n",
       "      <td>Tea</td>\n",
       "      <td>2016-01-11 12:26:43</td>\n",
       "      <td>Afternoon</td>\n",
       "      <td>Weekday</td>\n",
       "      <td>2016-01-11</td>\n",
       "      <td>12:26:43</td>\n",
       "      <td>623</td>\n",
       "    </tr>\n",
       "    <tr>\n",
       "      <th>440</th>\n",
       "      <td>215</td>\n",
       "      <td>Pastry</td>\n",
       "      <td>2016-01-11 12:30:30</td>\n",
       "      <td>Afternoon</td>\n",
       "      <td>Weekday</td>\n",
       "      <td>2016-01-11</td>\n",
       "      <td>12:30:30</td>\n",
       "      <td>838</td>\n",
       "    </tr>\n",
       "    <tr>\n",
       "      <th>441</th>\n",
       "      <td>215</td>\n",
       "      <td>Coffee</td>\n",
       "      <td>2016-01-11 12:30:30</td>\n",
       "      <td>Afternoon</td>\n",
       "      <td>Weekday</td>\n",
       "      <td>2016-01-11</td>\n",
       "      <td>12:30:30</td>\n",
       "      <td>1053</td>\n",
       "    </tr>\n",
       "    <tr>\n",
       "      <th>...</th>\n",
       "      <td>...</td>\n",
       "      <td>...</td>\n",
       "      <td>...</td>\n",
       "      <td>...</td>\n",
       "      <td>...</td>\n",
       "      <td>...</td>\n",
       "      <td>...</td>\n",
       "      <td>...</td>\n",
       "    </tr>\n",
       "    <tr>\n",
       "      <th>16894</th>\n",
       "      <td>8016</td>\n",
       "      <td>Pastry</td>\n",
       "      <td>2017-12-03 12:32:01</td>\n",
       "      <td>Afternoon</td>\n",
       "      <td>Weekend</td>\n",
       "      <td>2017-12-03</td>\n",
       "      <td>12:32:01</td>\n",
       "      <td>93478404</td>\n",
       "    </tr>\n",
       "    <tr>\n",
       "      <th>16895</th>\n",
       "      <td>8017</td>\n",
       "      <td>Baguette</td>\n",
       "      <td>2017-12-03 12:33:04</td>\n",
       "      <td>Afternoon</td>\n",
       "      <td>Weekend</td>\n",
       "      <td>2017-12-03</td>\n",
       "      <td>12:33:04</td>\n",
       "      <td>93486421</td>\n",
       "    </tr>\n",
       "    <tr>\n",
       "      <th>16896</th>\n",
       "      <td>8018</td>\n",
       "      <td>Cookies</td>\n",
       "      <td>2017-12-03 12:34:03</td>\n",
       "      <td>Afternoon</td>\n",
       "      <td>Weekend</td>\n",
       "      <td>2017-12-03</td>\n",
       "      <td>12:34:03</td>\n",
       "      <td>93494439</td>\n",
       "    </tr>\n",
       "    <tr>\n",
       "      <th>16890</th>\n",
       "      <td>8015</td>\n",
       "      <td>Scone</td>\n",
       "      <td>2017-12-03 12:21:11</td>\n",
       "      <td>Afternoon</td>\n",
       "      <td>Weekend</td>\n",
       "      <td>2017-12-03</td>\n",
       "      <td>12:21:11</td>\n",
       "      <td>93502454</td>\n",
       "    </tr>\n",
       "    <tr>\n",
       "      <th>16986</th>\n",
       "      <td>8056</td>\n",
       "      <td>Sandwich</td>\n",
       "      <td>2017-12-03 16:28:00</td>\n",
       "      <td>Afternoon</td>\n",
       "      <td>Weekend</td>\n",
       "      <td>2017-12-03</td>\n",
       "      <td>16:28:00</td>\n",
       "      <td>93510510</td>\n",
       "    </tr>\n",
       "  </tbody>\n",
       "</table>\n",
       "<p>18887 rows × 8 columns</p>\n",
       "</div>"
      ],
      "text/plain": [
       "       TransactionNo         Items            DateTime    Daypart  DayType  \\\n",
       "401              195  Scandinavian 2016-01-11 11:06:09    Morning  Weekday   \n",
       "437              214         Bread 2016-01-11 12:26:43  Afternoon  Weekday   \n",
       "438              214           Tea 2016-01-11 12:26:43  Afternoon  Weekday   \n",
       "440              215        Pastry 2016-01-11 12:30:30  Afternoon  Weekday   \n",
       "441              215        Coffee 2016-01-11 12:30:30  Afternoon  Weekday   \n",
       "...              ...           ...                 ...        ...      ...   \n",
       "16894           8016        Pastry 2017-12-03 12:32:01  Afternoon  Weekend   \n",
       "16895           8017      Baguette 2017-12-03 12:33:04  Afternoon  Weekend   \n",
       "16896           8018       Cookies 2017-12-03 12:34:03  Afternoon  Weekend   \n",
       "16890           8015         Scone 2017-12-03 12:21:11  Afternoon  Weekend   \n",
       "16986           8056      Sandwich 2017-12-03 16:28:00  Afternoon  Weekend   \n",
       "\n",
       "             Date      Time  CumulativeCount  \n",
       "401    2016-01-11  11:06:09              195  \n",
       "437    2016-01-11  12:26:43              409  \n",
       "438    2016-01-11  12:26:43              623  \n",
       "440    2016-01-11  12:30:30              838  \n",
       "441    2016-01-11  12:30:30             1053  \n",
       "...           ...       ...              ...  \n",
       "16894  2017-12-03  12:32:01         93478404  \n",
       "16895  2017-12-03  12:33:04         93486421  \n",
       "16896  2017-12-03  12:34:03         93494439  \n",
       "16890  2017-12-03  12:21:11         93502454  \n",
       "16986  2017-12-03  16:28:00         93510510  \n",
       "\n",
       "[18887 rows x 8 columns]"
      ]
     },
     "execution_count": 28,
     "metadata": {},
     "output_type": "execute_result"
    }
   ],
   "source": [
    "df['DateTime'] = pd.to_datetime(df['DateTime'])\n",
    "\n",
    "df = df.sort_values('Date')\n",
    "\n",
    "df['CumulativeCount'] = df['TransactionNo'].cumsum()\n",
    "\n",
    "df"
   ]
  },
  {
   "cell_type": "code",
   "execution_count": 34,
   "id": "3356a86b",
   "metadata": {},
   "outputs": [
    {
     "data": {
      "image/png": "[encoded data removed]",
      "text/plain": [
       "<Figure size 720x432 with 1 Axes>"
      ]
     },
     "metadata": {
      "needs_background": "light"
     },
     "output_type": "display_data"
    }
   ],
   "source": [
    "fig, ax = plt.subplots(figsize = (10,6))\n",
    "\n",
    "ax.fill_between(df['Date'],df['CumulativeCount'],color = 'skyblue',alpha=0.7)\n",
    "ax.plot(df['Date'],df['CumulativeCount'],color='blue')\n",
    "\n",
    "ax.set_title('Cumulative transaction count over time')\n",
    "ax.set_xlabel('Date')\n",
    "ax.set_ylabel('Cumulative Count')\n",
    "\n",
    "plt.xticks(rotation=45)\n",
    "\n",
    "plt.show()"
   ]
  },
  {
   "cell_type": "code",
   "execution_count": 35,
   "id": "780ce8fe",
   "metadata": {},
   "outputs": [
    {
     "data": {
      "text/html": [
       "<div>\n",
       "<style scoped>\n",
       "    .dataframe tbody tr th:only-of-type {\n",
       "        vertical-align: middle;\n",
       "    }\n",
       "\n",
       "    .dataframe tbody tr th {\n",
       "        vertical-align: top;\n",
       "    }\n",
       "\n",
       "    .dataframe thead th {\n",
       "        text-align: right;\n",
       "    }\n",
       "</style>\n",
       "<table border=\"1\" class=\"dataframe\">\n",
       "  <thead>\n",
       "    <tr style=\"text-align: right;\">\n",
       "      <th></th>\n",
       "      <th>TransactionNo</th>\n",
       "      <th>Items</th>\n",
       "      <th>DateTime</th>\n",
       "      <th>Daypart</th>\n",
       "      <th>DayType</th>\n",
       "      <th>Date</th>\n",
       "      <th>Time</th>\n",
       "      <th>CumulativeCount</th>\n",
       "    </tr>\n",
       "  </thead>\n",
       "  <tbody>\n",
       "    <tr>\n",
       "      <th>401</th>\n",
       "      <td>195</td>\n",
       "      <td>Scandinavian</td>\n",
       "      <td>2016-01-11 11:06:09</td>\n",
       "      <td>Morning</td>\n",
       "      <td>Weekday</td>\n",
       "      <td>2016-01-11</td>\n",
       "      <td>11:06:09</td>\n",
       "      <td>195</td>\n",
       "    </tr>\n",
       "    <tr>\n",
       "      <th>437</th>\n",
       "      <td>214</td>\n",
       "      <td>Bread</td>\n",
       "      <td>2016-01-11 12:26:43</td>\n",
       "      <td>Afternoon</td>\n",
       "      <td>Weekday</td>\n",
       "      <td>2016-01-11</td>\n",
       "      <td>12:26:43</td>\n",
       "      <td>409</td>\n",
       "    </tr>\n",
       "    <tr>\n",
       "      <th>438</th>\n",
       "      <td>214</td>\n",
       "      <td>Tea</td>\n",
       "      <td>2016-01-11 12:26:43</td>\n",
       "      <td>Afternoon</td>\n",
       "      <td>Weekday</td>\n",
       "      <td>2016-01-11</td>\n",
       "      <td>12:26:43</td>\n",
       "      <td>623</td>\n",
       "    </tr>\n",
       "    <tr>\n",
       "      <th>440</th>\n",
       "      <td>215</td>\n",
       "      <td>Pastry</td>\n",
       "      <td>2016-01-11 12:30:30</td>\n",
       "      <td>Afternoon</td>\n",
       "      <td>Weekday</td>\n",
       "      <td>2016-01-11</td>\n",
       "      <td>12:30:30</td>\n",
       "      <td>838</td>\n",
       "    </tr>\n",
       "    <tr>\n",
       "      <th>441</th>\n",
       "      <td>215</td>\n",
       "      <td>Coffee</td>\n",
       "      <td>2016-01-11 12:30:30</td>\n",
       "      <td>Afternoon</td>\n",
       "      <td>Weekday</td>\n",
       "      <td>2016-01-11</td>\n",
       "      <td>12:30:30</td>\n",
       "      <td>1053</td>\n",
       "    </tr>\n",
       "    <tr>\n",
       "      <th>...</th>\n",
       "      <td>...</td>\n",
       "      <td>...</td>\n",
       "      <td>...</td>\n",
       "      <td>...</td>\n",
       "      <td>...</td>\n",
       "      <td>...</td>\n",
       "      <td>...</td>\n",
       "      <td>...</td>\n",
       "    </tr>\n",
       "    <tr>\n",
       "      <th>16894</th>\n",
       "      <td>8016</td>\n",
       "      <td>Pastry</td>\n",
       "      <td>2017-12-03 12:32:01</td>\n",
       "      <td>Afternoon</td>\n",
       "      <td>Weekend</td>\n",
       "      <td>2017-12-03</td>\n",
       "      <td>12:32:01</td>\n",
       "      <td>93478404</td>\n",
       "    </tr>\n",
       "    <tr>\n",
       "      <th>16895</th>\n",
       "      <td>8017</td>\n",
       "      <td>Baguette</td>\n",
       "      <td>2017-12-03 12:33:04</td>\n",
       "      <td>Afternoon</td>\n",
       "      <td>Weekend</td>\n",
       "      <td>2017-12-03</td>\n",
       "      <td>12:33:04</td>\n",
       "      <td>93486421</td>\n",
       "    </tr>\n",
       "    <tr>\n",
       "      <th>16896</th>\n",
       "      <td>8018</td>\n",
       "      <td>Cookies</td>\n",
       "      <td>2017-12-03 12:34:03</td>\n",
       "      <td>Afternoon</td>\n",
       "      <td>Weekend</td>\n",
       "      <td>2017-12-03</td>\n",
       "      <td>12:34:03</td>\n",
       "      <td>93494439</td>\n",
       "    </tr>\n",
       "    <tr>\n",
       "      <th>16890</th>\n",
       "      <td>8015</td>\n",
       "      <td>Scone</td>\n",
       "      <td>2017-12-03 12:21:11</td>\n",
       "      <td>Afternoon</td>\n",
       "      <td>Weekend</td>\n",
       "      <td>2017-12-03</td>\n",
       "      <td>12:21:11</td>\n",
       "      <td>93502454</td>\n",
       "    </tr>\n",
       "    <tr>\n",
       "      <th>16986</th>\n",
       "      <td>8056</td>\n",
       "      <td>Sandwich</td>\n",
       "      <td>2017-12-03 16:28:00</td>\n",
       "      <td>Afternoon</td>\n",
       "      <td>Weekend</td>\n",
       "      <td>2017-12-03</td>\n",
       "      <td>16:28:00</td>\n",
       "      <td>93510510</td>\n",
       "    </tr>\n",
       "  </tbody>\n",
       "</table>\n",
       "<p>18887 rows × 8 columns</p>\n",
       "</div>"
      ],
      "text/plain": [
       "       TransactionNo         Items            DateTime    Daypart  DayType  \\\n",
       "401              195  Scandinavian 2016-01-11 11:06:09    Morning  Weekday   \n",
       "437              214         Bread 2016-01-11 12:26:43  Afternoon  Weekday   \n",
       "438              214           Tea 2016-01-11 12:26:43  Afternoon  Weekday   \n",
       "440              215        Pastry 2016-01-11 12:30:30  Afternoon  Weekday   \n",
       "441              215        Coffee 2016-01-11 12:30:30  Afternoon  Weekday   \n",
       "...              ...           ...                 ...        ...      ...   \n",
       "16894           8016        Pastry 2017-12-03 12:32:01  Afternoon  Weekend   \n",
       "16895           8017      Baguette 2017-12-03 12:33:04  Afternoon  Weekend   \n",
       "16896           8018       Cookies 2017-12-03 12:34:03  Afternoon  Weekend   \n",
       "16890           8015         Scone 2017-12-03 12:21:11  Afternoon  Weekend   \n",
       "16986           8056      Sandwich 2017-12-03 16:28:00  Afternoon  Weekend   \n",
       "\n",
       "             Date      Time  CumulativeCount  \n",
       "401    2016-01-11  11:06:09              195  \n",
       "437    2016-01-11  12:26:43              409  \n",
       "438    2016-01-11  12:26:43              623  \n",
       "440    2016-01-11  12:30:30              838  \n",
       "441    2016-01-11  12:30:30             1053  \n",
       "...           ...       ...              ...  \n",
       "16894  2017-12-03  12:32:01         93478404  \n",
       "16895  2017-12-03  12:33:04         93486421  \n",
       "16896  2017-12-03  12:34:03         93494439  \n",
       "16890  2017-12-03  12:21:11         93502454  \n",
       "16986  2017-12-03  16:28:00         93510510  \n",
       "\n",
       "[18887 rows x 8 columns]"
      ]
     },
     "execution_count": 35,
     "metadata": {},
     "output_type": "execute_result"
    }
   ],
   "source": [
    "df"
   ]
  },
  {
   "cell_type": "code",
   "execution_count": 36,
   "id": "e17cdb85",
   "metadata": {},
   "outputs": [
    {
     "name": "stdout",
     "output_type": "stream",
     "text": [
      "    Year  Month  TransactionNo\n",
      "0   2016      1         221247\n",
      "1   2016      2         291583\n",
      "2   2016      3         523297\n",
      "3   2016      4         357475\n",
      "4   2016      5         429128\n",
      "5   2016      6         417158\n",
      "6   2016      7         315789\n",
      "7   2016      8         295622\n",
      "8   2016      9         404075\n",
      "9   2016     10         634189\n",
      "10  2016     11        4324977\n",
      "11  2016     12        7040519\n",
      "12  2017      1       14396021\n",
      "13  2017      2       15093175\n",
      "14  2017      3       21960213\n",
      "15  2017      4        4658238\n",
      "16  2017      5        3369035\n",
      "17  2017      6        2817136\n",
      "18  2017      7        3075342\n",
      "19  2017      8        3389547\n",
      "20  2017      9        2408912\n",
      "21  2017     10        2132901\n",
      "22  2017     11        2901579\n",
      "23  2017     12        2053352\n"
     ]
    }
   ],
   "source": [
    "df['Month'] = df['DateTime'].dt.month\n",
    "df['Year'] = df['DateTime'].dt.year\n",
    "\n",
    "monthly_sales = df.groupby(['Year','Month'])['TransactionNo'].sum().reset_index()\n",
    "\n",
    "print(monthly_sales)"
   ]
  },
  {
   "cell_type": "code",
   "execution_count": 40,
   "id": "cd844ee3",
   "metadata": {},
   "outputs": [
    {
     "data": {
      "image/png": "[encoded data removed]",
      "text/plain": [
       "<Figure size 720x720 with 2 Axes>"
      ]
     },
     "metadata": {
      "needs_background": "light"
     },
     "output_type": "display_data"
    }
   ],
   "source": [
    "sales_2016 = monthly_sales[monthly_sales['Year'] == 2016]\n",
    "sales_2017 = monthly_sales[monthly_sales['Year'] == 2017]\n",
    "\n",
    "fig,(ax1,ax2) = plt.subplots(2,1,figsize=(10,10))\n",
    "\n",
    "ax1.bar(sales_2016['Month'],sales_2016['TransactionNo'])\n",
    "ax1.set_xticks(range(1,13))\n",
    "ax1.set_xticklabels(['Jan','Feb','Mar','Apr','May','Jun','Jul','Aug','Sep','Oct','Nov','Dec'])\n",
    "ax1.set_title('Monthly Sales Analysis (2016)')\n",
    "ax1.set_xlabel('Month')\n",
    "ax1.set_ylabel('Total Sales')\n",
    "\n",
    "ax2.bar(sales_2017['Month'],sales_2017['TransactionNo'])\n",
    "ax2.set_xticks(range(1,13))\n",
    "ax2.set_xticklabels(['Jan','Feb','Mar','Apr','May','Jun','Jul','Aug','Sep','Oct','Nov','Dec'])\n",
    "ax2.set_title('Monthly Sales Analysis (2017)')\n",
    "ax2.set_xlabel('Month')\n",
    "ax2.set_ylabel('Total Sales')\n",
    "\n",
    "plt.tight_layout()\n",
    "plt.show()"
   ]
  },
  {
   "cell_type": "code",
   "execution_count": 42,
   "id": "7ea75919",
   "metadata": {},
   "outputs": [
    {
     "data": {
      "image/png": "[encoded data removed]",
      "text/plain": [
       "<Figure size 720x432 with 1 Axes>"
      ]
     },
     "metadata": {
      "needs_background": "light"
     },
     "output_type": "display_data"
    }
   ],
   "source": [
    "sales_data = df[['DateTime','TransactionNo']]\n",
    "\n",
    "sales_data.set_index('DateTime',inplace=True)\n",
    "\n",
    "monthly_sales = sales_data.resample('M').sum()\n",
    "\n",
    "plt.figure(figsize=(10,6))\n",
    "plt.plot(monthly_sales.index,monthly_sales['TransactionNo'])\n",
    "plt.title('Sales Trend Analysis')\n",
    "plt.xlabel('Time')\n",
    "plt.ylabel('Sales')\n",
    "\n",
    "plt.show()"
   ]
  }
 ],
 "metadata": {
  "kernelspec": {
   "display_name": "Python 3 (ipykernel)",
   "language": "python",
   "name": "python3"
  },
  "language_info": {
   "codemirror_mode": {
    "name": "ipython",
    "version": 3
   },
   "file_extension": ".py",
   "mimetype": "text/x-python",
   "name": "python",
   "nbconvert_exporter": "python",
   "pygments_lexer": "ipython3",
   "version": "3.9.7"
  }
 },
 "nbformat": 4,
 "nbformat_minor": 5
}
